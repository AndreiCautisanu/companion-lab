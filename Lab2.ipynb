{
 "cells": [
  {
   "cell_type": "markdown",
   "metadata": {},
   "source": [
    "# Elementary Notions in Statistics"
   ]
  },
  {
   "cell_type": "markdown",
   "metadata": {},
   "source": [
    "## Random variables"
   ]
  },
  {
   "cell_type": "markdown",
   "metadata": {},
   "source": [
    "> A _random variable_ is a function that assigns a real value to each outcome from a sample space $\\Omega$."
   ]
  },
  {
   "cell_type": "markdown",
   "metadata": {},
   "source": [
    "It usually denoted by capital letters: $X: \\Omega \\to \\mathbb{R}$.\n",
    "\n",
    "In many cases the random variable is effectively just a way to model the output of an experiment as a number.\n",
    "\n",
    "In a mathematical sense, it is *not random* and *not a variable*. The name makes sense when analysing phenomena from a statistical perspective: it is a variable because it can influence the studied outcome (i.e. temperature and humidity are important variables in analysing precipitation levels) and are random because their values are unpredictable (even if we can assign some probabilities to them, they are effectively outside our control)."
   ]
  },
  {
   "cell_type": "markdown",
   "metadata": {},
   "source": [
    "Several different random variables can be defined on the same sample space."
   ]
  },
  {
   "cell_type": "markdown",
   "metadata": {},
   "source": [
    "### Example\n",
    "\n",
    "Since random variables are just associations between omega and a number, the simplest way to represent a random variable would be through a dictionary. So for the tossing of a coin, for example, we can have:"
   ]
  },
  {
   "cell_type": "code",
   "execution_count": 3,
   "metadata": {},
   "outputs": [
    {
     "name": "stdout",
     "output_type": "stream",
     "text": [
      "1\n"
     ]
    }
   ],
   "source": [
    "omega = set(['H', 'T'])\n",
    "X = {'H': 1, 'T': -1}\n",
    "print(X['H'])"
   ]
  },
  {
   "cell_type": "markdown",
   "metadata": {},
   "source": [
    "If two random variables are independent, they can be added or multiplied by adding or multiplying their corresponding values:"
   ]
  },
  {
   "cell_type": "code",
   "execution_count": 100,
   "metadata": {},
   "outputs": [
    {
     "name": "stdout",
     "output_type": "stream",
     "text": [
      "Z=X+Y: {'H': 3, 'T': 2}\n",
      "Z=XY: {'H': 2, 'T': -3}\n"
     ]
    }
   ],
   "source": [
    "omega = set(['H', 'T'])\n",
    "X = {'H': 1, 'T': -1}\n",
    "Y = {'H': 2, 'T': 3}\n",
    "Z = {o: X[o]+Y[o] for o in omega} # Z = X + Y\n",
    "print('Z=X+Y:', Z)\n",
    "Z = {o: X[o]*Y[o] for o in omega} # Z = X * Y\n",
    "print('Z=XY:', Z)"
   ]
  },
  {
   "cell_type": "markdown",
   "metadata": {},
   "source": [
    "## Discrete random variables\n",
    "\n",
    "> Let $\\Omega$ be a sample space. A _discrete random variable_ is a function $X: \\Omega \\to \\mathbb{R}$ that takes on a finite number of values $a_1, a_2,\\dotsc,a_n$ or a countably infinite number of values $a_1, a_2,\\dotsc$.\n",
    "\n",
    "Examples:\n",
    "* Tossing a coin\n",
    "* Number of bees in Europe\n",
    "* How many tries it takes to get a 6 on a die"
   ]
  },
  {
   "cell_type": "markdown",
   "metadata": {},
   "source": [
    "### Probability mass function (pmf)\n",
    "\n",
    "> The _probability mass function_ $p$ of a discrete random variable $X$ is the function $p:\\mathbb{R} \\to [0,1]$ defined by\n",
    ">\n",
    ">  $p(a) = P(X = a)=P(\\{ \\omega \\in \\Omega | X(\\omega) = x\\})$ for $-\\infty < a < \\infty$\n",
    "\n",
    "#### Example\n",
    "\n",
    "In Python, we can create this function using `tools.stats.probability_weighted` from Lab1:"
   ]
  },
  {
   "cell_type": "code",
   "execution_count": 2,
   "metadata": {},
   "outputs": [
    {
     "data": {
      "text/plain": [
       "0.25"
      ]
     },
     "execution_count": 2,
     "metadata": {},
     "output_type": "execute_result"
    }
   ],
   "source": [
    "from tools.stats import probability_weighted, WeightedOutcome\n",
    "from dataclasses import dataclass\n",
    "\n",
    "@dataclass(frozen=True)\n",
    "class Outcome(WeightedOutcome):\n",
    "    weather: str\n",
    "\n",
    "omega = set([Outcome(weather='Rain', weight=1), \n",
    "             Outcome(weather='Sunny', weight=1),\n",
    "             Outcome(weather='Overcast', weight=2)])\n",
    "X = {'Rain': -1, 'Sunny': 2, 'Overcast': 3}\n",
    "\n",
    "def pmf(X, k, omega):\n",
    "    A = set(o for o in omega if X[o.weather] is k)\n",
    "    return probability_weighted(A, omega)\n",
    "\n",
    "pmf(X, 2, omega)"
   ]
  },
  {
   "cell_type": "markdown",
   "metadata": {},
   "source": [
    "However, in practice, once a discrete random variable X is introduced, the sample space $\\Omega$ is no longer important, because we can now just operate with the values of $X$ instead (usually denoted by $k$).\n",
    "\n",
    "We can plot the pmf for every value of $X$ (or, in other words, for every value of $k$) using `matplotlib.pyplot`:"
   ]
  },
  {
   "cell_type": "code",
   "execution_count": 3,
   "metadata": {},
   "outputs": [
    {
     "data": {
      "image/png": "[encoded data removed]",
      "text/plain": [
       "<Figure size 432x288 with 1 Axes>"
      ]
     },
     "metadata": {
      "needs_background": "light"
     },
     "output_type": "display_data"
    }
   ],
   "source": [
    "import matplotlib.pyplot as plt\n",
    "\n",
    "k = sorted(set(X.values()))\n",
    "pmf_X = [pmf(X, x, omega) for x in k]\n",
    "\n",
    "fig, ax = plt.subplots(1, 1)\n",
    "ax.bar(k, pmf_X)\n",
    "plt.ylabel(\"pmf\")\n",
    "plt.xlabel(\"k\")\n",
    "plt.title(\"Probability mass function\")\n",
    "plt.show()"
   ]
  },
  {
   "cell_type": "markdown",
   "metadata": {},
   "source": [
    "### Bernoulli distribution"
   ]
  },
  {
   "cell_type": "markdown",
   "metadata": {},
   "source": [
    "Description\n",
    ": The probability distribution of a single experiment for which\n",
    "the outcome is one of two possible values.\n",
    "\n",
    "Example\n",
    ": Tossing of a (possibly unfair) coin.\n",
    "\n",
    "Notation\n",
    ": Bernoully(p); Ber(p)\n",
    "\n",
    "Parameters\n",
    ": $0 \\leq p \\leq 1$\n",
    "\n",
    "Support (values of X)\n",
    ": $k \\in {0,1}$\n",
    "\n",
    "pmf\n",
    ": $\\begin{cases} p& \\text{if}\\ k=1 \\\\ 1-p& \\text{if}\\ k=0 \\end{cases}$\n",
    "  \n",
    "Mean\n",
    ": $p$ "
   ]
  },
  {
   "cell_type": "code",
   "execution_count": 56,
   "metadata": {},
   "outputs": [
    {
     "data": {
      "image/png": "[encoded data removed]",
      "text/plain": [
       "<Figure size 432x288 with 1 Axes>"
      ]
     },
     "metadata": {
      "needs_background": "light"
     },
     "output_type": "display_data"
    }
   ],
   "source": [
    "from scipy.stats import bernoulli\n",
    "p = 0.3\n",
    "k = [0, 1]\n",
    "pmf_X = bernoulli.pmf(k, p)\n",
    "\n",
    "fig, ax = plt.subplots(1, 1)\n",
    "ax.bar(k, pmf_X)\n",
    "plt.ylabel(\"pmf\")\n",
    "plt.xlabel(\"k\")\n",
    "plt.title(\"Probability mass function\")\n",
    "plt.show()"
   ]
  },
  {
   "cell_type": "markdown",
   "metadata": {},
   "source": [
    "### Poisson distribution\n",
    "\n",
    "Description\n",
    ": Probability of a given number of events occuring in a fixed interval of time or space.\n",
    "\n",
    "Example\n",
    ": Number of phone calls $k$ received in a day, given that we expect $\\lambda$ calls a day on average.\n",
    "\n",
    "Notation\n",
    ": Pois($\\lambda$)\n",
    "\n",
    "Parameters\n",
    ": $\\lambda \\in \\mathbb{R}^+$\n",
    "\n",
    "Support\n",
    ": $k \\in \\mathbb{N}_0$\n",
    "\n",
    "pmf\n",
    ": $\\frac{\\lambda^ke^{-\\lambda}}{k!}$\n",
    "\n",
    "Mean\n",
    ": $\\lambda$"
   ]
  },
  {
   "cell_type": "code",
   "execution_count": 60,
   "metadata": {},
   "outputs": [
    {
     "data": {
      "image/png": "[encoded data removed]",
      "text/plain": [
       "<Figure size 432x288 with 1 Axes>"
      ]
     },
     "metadata": {
      "needs_background": "light"
     },
     "output_type": "display_data"
    }
   ],
   "source": [
    "from scipy.stats import poisson\n",
    "lambda_ = 2\n",
    "k=range(10)\n",
    "\n",
    "pmf_X = poisson.pmf(k, lambda_)\n",
    "\n",
    "fig, ax = plt.subplots(1, 1)\n",
    "ax.bar(k, pmf_X)\n",
    "plt.ylabel(\"pmf\")\n",
    "plt.xlabel(\"k\")\n",
    "plt.title(\"Probability mass function\")\n",
    "plt.show()"
   ]
  },
  {
   "cell_type": "markdown",
   "metadata": {},
   "source": [
    "## Continuous random variables\n",
    "\n",
    "> A random variable $X$ is _continuous_ if for some function $f:\\mathbb{R} \\to \\mathbb{R}$ and for any numbers $a$ and $b$ with $a \\leq b$,\n",
    ">\n",
    "> $P(a\\leq X \\leq b) = \\int_a^bf(x) \\,dx$.\n",
    "> \n",
    "> The function $f$ has to satisfy $f(x) \\geq 0$ for all $x$ and $\\int_{-\\infty}^{\\infty}f(x) \\,dx=1$\n",
    ">\n",
    "> We call $f$ the probability density function (pdf) of X.\n",
    "\n",
    "Examples:\n",
    "* height of a person\n",
    "* how much weight a bridge can hold\n",
    "* price of a car"
   ]
  },
  {
   "cell_type": "markdown",
   "metadata": {},
   "source": [
    "### Normal (Gaussian) distribution\n",
    "\n",
    "Description\n",
    ": One of the most important distributions in probability theory and statistics since, among other things, it can model measurement errors and the average of any other distribution.\n",
    "\n",
    "Example\n",
    ": Height of a person can be approximated as a normal distribution.\n",
    "\n",
    "Notation\n",
    ": $N( \\mu, \\sigma^2)$\n",
    "\n",
    "Parameters:\n",
    "* $\\mu \\in \\mathbb{R}$ (mean, location)\n",
    "* $\\sigma^2 > 0$ (variance, squared scale)\n",
    "\n",
    "Support (values of X)\n",
    ": $x \\in \\mathbb{R}$\n",
    "\n",
    "pdf\n",
    ": $\\frac{1}{\\sigma\\sqrt{2\\pi}} e^{-\\frac{1}{2}\\left(\\frac{x - \\mu}{\\sigma}\\right)^2}$\n",
    "  \n",
    "Mean\n",
    ": $\\mu$ "
   ]
  },
  {
   "cell_type": "code",
   "execution_count": 92,
   "metadata": {},
   "outputs": [
    {
     "data": {
      "image/png": "[encoded data removed]",
      "text/plain": [
       "<Figure size 432x288 with 1 Axes>"
      ]
     },
     "metadata": {
      "needs_background": "light"
     },
     "output_type": "display_data"
    }
   ],
   "source": [
    "from scipy.stats import norm\n",
    "import numpy as np\n",
    "mu = 0\n",
    "sigma = 1\n",
    "x = np.linspace(-5, 5)\n",
    "pdf_X = norm.pdf(x, mu, sigma)\n",
    "\n",
    "fig, ax = plt.subplots(1, 1)\n",
    "ax.plot(x, pdf_X)\n",
    "plt.ylabel(\"pdf\")\n",
    "plt.xlabel(\"x\")\n",
    "plt.title(\"Probability density function\")\n",
    "plt.show()"
   ]
  },
  {
   "cell_type": "markdown",
   "metadata": {},
   "source": [
    "If we are interested int the probability that a value is up to and including $x$, we can plot the _cumulative distribution function_:"
   ]
  },
  {
   "cell_type": "code",
   "execution_count": 7,
   "metadata": {},
   "outputs": [
    {
     "data": {
      "image/png": "[encoded data removed]",
      "text/plain": [
       "<Figure size 432x288 with 1 Axes>"
      ]
     },
     "metadata": {
      "needs_background": "light"
     },
     "output_type": "display_data"
    }
   ],
   "source": [
    "from scipy.stats import norm\n",
    "import numpy as np\n",
    "mu = 0\n",
    "sigma = 1\n",
    "x = np.linspace(-5, 5)\n",
    "cdf_X = norm.cdf(x, mu, sigma)\n",
    "\n",
    "fig, ax = plt.subplots(1, 1)\n",
    "ax.plot(x, cdf_X)\n",
    "plt.ylabel(\"cdf\")\n",
    "plt.xlabel(\"x\")\n",
    "plt.title(\"Cumulative distribution function\")\n",
    "plt.show()"
   ]
  },
  {
   "cell_type": "markdown",
   "metadata": {},
   "source": [
    "## Expectation\n",
    "\n",
    "> The _expectation_ of a discrete random variable $X$ taking the values $a_1, a_2,...$ and with probability mass function $p$ is the number\n",
    ">\n",
    "> $E[X] = \\sum_i a_iP(X = a_i) = \\sum_i a_ip(a_i)$\n",
    "\n",
    "Also called _mean_ or _expected value_."
   ]
  },
  {
   "cell_type": "code",
   "execution_count": 8,
   "metadata": {},
   "outputs": [
    {
     "name": "stdout",
     "output_type": "stream",
     "text": [
      "mean is 2.0\n"
     ]
    },
    {
     "data": {
      "image/png": "[encoded data removed]",
      "text/plain": [
       "<Figure size 432x288 with 1 Axes>"
      ]
     },
     "metadata": {
      "needs_background": "light"
     },
     "output_type": "display_data"
    }
   ],
   "source": [
    "from scipy.stats import poisson\n",
    "lambda_ = 2\n",
    "k=range(10)\n",
    "\n",
    "pmf_X = poisson.pmf(k, lambda_)\n",
    "\n",
    "mean = poisson.mean(lambda_)\n",
    "print('mean is', mean)\n",
    "\n",
    "fig, ax = plt.subplots(1, 1)\n",
    "ax.bar(k, pmf_X)\n",
    "ax.vlines(mean, 0, max(pmf_X), colors='red')\n",
    "plt.ylabel(\"pmf\")\n",
    "plt.xlabel(\"k\")\n",
    "plt.title(\"Probability mass function\")\n",
    "plt.show()"
   ]
  },
  {
   "cell_type": "markdown",
   "metadata": {},
   "source": [
    "> The _expectation_ of a continuous random variable $X$ with probability density function $f$ is the number\n",
    ">\n",
    "> $E[X] = \\int_{- \\infty}^{\\infty} xf(x) \\,dx$"
   ]
  },
  {
   "cell_type": "code",
   "execution_count": 9,
   "metadata": {},
   "outputs": [
    {
     "name": "stdout",
     "output_type": "stream",
     "text": [
      "mean is 0.0\n"
     ]
    },
    {
     "data": {
      "image/png": "[encoded data removed]",
      "text/plain": [
       "<Figure size 432x288 with 1 Axes>"
      ]
     },
     "metadata": {
      "needs_background": "light"
     },
     "output_type": "display_data"
    }
   ],
   "source": [
    "from scipy.stats import norm\n",
    "import numpy as np\n",
    "mu = 0\n",
    "sigma = 1\n",
    "x = np.linspace(-5, 5)\n",
    "pdf_X = norm.pdf(x, mu, sigma)\n",
    "\n",
    "mean = norm.mean(mu, sigma)\n",
    "print('mean is', mean)\n",
    "\n",
    "fig, ax = plt.subplots(1, 1)\n",
    "ax.plot(x, pdf_X)\n",
    "ax.vlines(mean, 0, max(pdf_X), colors='red')\n",
    "plt.ylabel(\"pdf\")\n",
    "plt.xlabel(\"x\")\n",
    "plt.title(\"Probability density function\")\n",
    "plt.show()"
   ]
  },
  {
   "cell_type": "markdown",
   "metadata": {},
   "source": [
    "Properties:\n",
    "* $E[aX+b] = aE(X)+b$ with $a, b \\in \\mathbb{R}$ (change-of-variable formula)\n",
    "* $E[X+Y] = E[X] + E[Y]$"
   ]
  },
  {
   "cell_type": "markdown",
   "metadata": {},
   "source": [
    "## Variance and standard deviation\n",
    "\n",
    "> The _variance_ Var(X) of a random variable $X$ is the number\n",
    ">\n",
    "> $Var(X) = E[(X-E[X])^2]$\n",
    "\n",
    "Variance is a measure of the spread of the data."
   ]
  },
  {
   "cell_type": "code",
   "execution_count": 89,
   "metadata": {},
   "outputs": [
    {
     "name": "stdout",
     "output_type": "stream",
     "text": [
      "variance is 2.0\n"
     ]
    }
   ],
   "source": [
    "from scipy.stats import poisson\n",
    "lambda_ = 2\n",
    "\n",
    "var = poisson.var(lambda_)\n",
    "print('variance is', var)"
   ]
  },
  {
   "cell_type": "markdown",
   "metadata": {},
   "source": [
    "The _standard deviation_ is simply the square root of variance, representing the spread of data in normal units:\n",
    "\n",
    "$\\sigma = \\sqrt{Var(X)}$"
   ]
  },
  {
   "cell_type": "markdown",
   "metadata": {},
   "source": [
    "Properties:\n",
    "* $Var(aX +b) = a^2Var(X)$\n",
    "* $Var(X) = E[X^2] - E^2[X]$"
   ]
  }
 ],
 "metadata": {
  "kernelspec": {
   "display_name": "Python 3",
   "language": "python",
   "name": "python3"
  },
  "language_info": {
   "codemirror_mode": {
    "name": "ipython",
    "version": 3
   },
   "file_extension": ".py",
   "mimetype": "text/x-python",
   "name": "python",
   "nbconvert_exporter": "python",
   "pygments_lexer": "ipython3",
   "version": "3.7.5"
  }
 },
 "nbformat": 4,
 "nbformat_minor": 4
}
