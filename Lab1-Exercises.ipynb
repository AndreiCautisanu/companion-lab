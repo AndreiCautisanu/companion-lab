{
 "cells": [
  {
   "cell_type": "markdown",
   "metadata": {},
   "source": [
    "# Elementary Probability Notions"
   ]
  },
  {
   "cell_type": "markdown",
   "metadata": {},
   "source": [
    "# Exercise 1\n",
    "\n",
    "Using the `plot_venn()` function and the existing `A`, `B` and `omega` variables, plot:\n",
    "* $A$\n",
    "* $\\neg A$\n",
    "* $A \\cup B$\n",
    "* $A \\cap \\neg B$"
   ]
  },
  {
   "cell_type": "code",
   "execution_count": 2,
   "metadata": {},
   "outputs": [],
   "source": [
    "from tools.venn import A, B, omega, plot_venn\n",
    "# A\n",
    "\n",
    "# not A\n",
    "\n",
    "# A or B\n",
    "\n",
    "# A and (not B)"
   ]
  },
  {
   "cell_type": "markdown",
   "metadata": {},
   "source": [
    "# Exercise 2\n",
    "\n",
    "Illustrate DeMorgan's laws using the `plot_venn()` function and standard Python set operations:\n",
    "1. $\\neg (A\\cup B) = \\neg A \\cap \\neg B$\n",
    "1. $\\neg (A\\cap B) = \\neg A \\cup \\neg B$"
   ]
  },
  {
   "cell_type": "code",
   "execution_count": 1,
   "metadata": {},
   "outputs": [],
   "source": [
    "from tools.venn import A, B, omega, plot_venn\n",
    "# First law\n",
    "\n",
    "# Second law"
   ]
  },
  {
   "cell_type": "markdown",
   "metadata": {},
   "source": [
    "# Exercise 3\n",
    "\n",
    "Two dice are thrown simultaneously. Calculate the probability that the sum is 11."
   ]
  },
  {
   "cell_type": "code",
   "execution_count": 4,
   "metadata": {},
   "outputs": [],
   "source": [
    "from itertools import product\n",
    "\n",
    "# Code here"
   ]
  }
 ],
 "metadata": {
  "kernelspec": {
   "display_name": "Python 3",
   "language": "python",
   "name": "python3"
  },
  "language_info": {
   "codemirror_mode": {
    "name": "ipython",
    "version": 3
   },
   "file_extension": ".py",
   "mimetype": "text/x-python",
   "name": "python",
   "nbconvert_exporter": "python",
   "pygments_lexer": "ipython3",
   "version": "3.7.5"
  }
 },
 "nbformat": 4,
 "nbformat_minor": 4
}
