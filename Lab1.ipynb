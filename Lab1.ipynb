{
 "cells": [
  {
   "cell_type": "markdown",
   "metadata": {},
   "source": [
    "# Elementary Probability Notions"
   ]
  },
  {
   "cell_type": "markdown",
   "metadata": {},
   "source": [
    "## Sample space $\\Omega$\n",
    "\n",
    "> A _sample space_ is a set with elements describing the outcomes of the experiment in which we are interested.\n",
    "\n",
    "Examples:\n",
    "* Tossing a coin:\n",
    "  $\\Omega = \\{Head, Tail\\}$\n",
    "* Number of bees in Europe: $\\Omega = \\mathbb{N}$\n",
    "* Guessing the month when someone is born:\n",
    "  $\\Omega = \\{Jan, Feb, Mar, Apr, May, Jun, Jul, Aug, Sep, Oct, Nov, Dec\\}$\n",
    "  \n",
    "In Python, these can be represented simply as sets."
   ]
  },
  {
   "cell_type": "code",
   "execution_count": 167,
   "metadata": {},
   "outputs": [
    {
     "name": "stdout",
     "output_type": "stream",
     "text": [
      "Omega: {'T', 'H'}\n"
     ]
    }
   ],
   "source": [
    "omega = set(['H', 'T'])\n",
    "print('Omega:',omega)"
   ]
  },
  {
   "cell_type": "markdown",
   "metadata": {},
   "source": [
    "## Event $A \\subseteq \\Omega$\n",
    "\n",
    "> An _event_ is a subset of the sample space.\n",
    "\n",
    "Examples:\n",
    "* The certain event: $\\Omega$\n",
    "* The impossible event: $\\emptyset$\n",
    "* Result of a coin toss: $A = \\{Head\\}$\n",
    "* Knowing the someone is born in a summer month: $A=\\{Jun, Jul, Aug\\}$\n",
    "\n",
    "Since events are sets, we can operate with events using the regular set operations: `union`, `intersection`, `difference`."
   ]
  },
  {
   "cell_type": "code",
   "execution_count": 120,
   "metadata": {},
   "outputs": [
    {
     "name": "stdout",
     "output_type": "stream",
     "text": [
      "{1, 2, 3}\n",
      "{2}\n",
      "{1}\n"
     ]
    }
   ],
   "source": [
    "A = set([1, 2])\n",
    "B = set([2, 3])\n",
    "omega = set([1,2,3,4])\n",
    "print(A.union(B))        # Or A|B\n",
    "print(A.intersection(B)) # Or A&B\n",
    "print(A.difference(B))   # Or A-B"
   ]
  },
  {
   "cell_type": "markdown",
   "metadata": {},
   "source": [
    "We can visualise these operations with `matplotlib_venn`:"
   ]
  },
  {
   "cell_type": "code",
   "execution_count": 134,
   "metadata": {},
   "outputs": [
    {
     "data": {
      "image/png": "[encoded data removed]",
      "text/plain": [
       "<Figure size 432x288 with 1 Axes>"
      ]
     },
     "metadata": {},
     "output_type": "display_data"
    }
   ],
   "source": [
    "from tools.venn import A, B, omega, plot_venn\n",
    "plot_venn(omega)"
   ]
  },
  {
   "cell_type": "markdown",
   "metadata": {},
   "source": [
    "_See: Exercise 1_"
   ]
  },
  {
   "cell_type": "markdown",
   "metadata": {},
   "source": [
    "Events A and B are called _disjoint_ or _mutually exclusive_ if A and B have no outcomes in common. In set notation: $A \\cap B = \\emptyset$."
   ]
  },
  {
   "cell_type": "markdown",
   "metadata": {},
   "source": [
    "# Probability\n",
    "\n",
    "> A _probability function_ $P$ on a finite sample space $\\Omega$ assigns to  each event $A$ in $\\Omega$ a number $P(A)$ in $[0,1]$ such that:\n",
    "> 1. $P(\\Omega)=1$ and\n",
    "> 1. $P(A \\cup B) = P(A)+P(B)$ if $A$ and $B$ are disjoint.\n",
    "\n",
    "The number $P(A)$ is called the probability that $A$ occurs.\n",
    "\n",
    "Consequently, for a uniform distribution in a finite space:\n",
    "\n",
    "$P(A) = \\frac{\\mbox{#favourable events}}{\\mbox{#all events}}$\n",
    "\n",
    "Useful properties resulting from the definition:\n",
    "1. $P(\\emptyset) = 0$\n",
    "1. $P(\\neg A) = 1-P(A)$\n",
    "1. $A \\subseteq B \\Rightarrow P(A) \\leq P(B)$\n",
    "1. $P(A \\setminus B) = P(A) - P(A \\cap B)$\n",
    "1. $P(A \\cup B) = P(A) + P(B) - P(A \\cap B)$"
   ]
  },
  {
   "cell_type": "markdown",
   "metadata": {},
   "source": [
    "## Example\n",
    "\n",
    "What is the probability that a die will turn an odd number?"
   ]
  },
  {
   "cell_type": "code",
   "execution_count": 163,
   "metadata": {},
   "outputs": [
    {
     "name": "stdout",
     "output_type": "stream",
     "text": [
      "Omega: {1, 2, 3, 4, 5, 6}\n",
      "A: {2, 4, 6}\n",
      "P(A)= 0.5\n"
     ]
    }
   ],
   "source": [
    "omega = set(range(1,7))\n",
    "print('Omega:', omega)\n",
    "A = set(a for a in omega if a % 2 == 0)\n",
    "print('A:', A)\n",
    "print('P(A)=', len(A) / len(omega))"
   ]
  },
  {
   "cell_type": "markdown",
   "metadata": {},
   "source": [
    "# Products of sample spaces\n",
    "\n",
    "Often in practice, more than one experiment is considered at a time. For instance, if we throw a coin two times, we would have two sample spaces $\\Omega_2 = \\Omega_1 = \\{H, T\\}$.\n",
    "\n",
    "We can treat both trows as a single event with the sample space \n",
    "\n",
    "$\\Omega = \\Omega_1 \\times \\Omega_2 = \\{(H,H), (H,T), (T,H), (T,T)\\}$\n",
    "\n",
    "or generally\n",
    "\n",
    "$\\Omega = \\Omega_1 \\times \\Omega_2 = \\{(\\omega_1, \\omega_2): \\omega_1 \\in \\Omega_1, \\omega_2 \\in \\Omega_2\\}$"
   ]
  },
  {
   "cell_type": "markdown",
   "metadata": {},
   "source": [
    "## Example\n",
    "\n",
    "What is the probability that by throwing a coin two times we will get tails at least once?"
   ]
  },
  {
   "cell_type": "code",
   "execution_count": 168,
   "metadata": {},
   "outputs": [
    {
     "name": "stdout",
     "output_type": "stream",
     "text": [
      "Omega: {('H', 'H'), ('T', 'H'), ('T', 'T'), ('H', 'T')}\n",
      "A: {('T', 'H'), ('T', 'T'), ('H', 'T')}\n",
      "P(A)= 0.75\n"
     ]
    }
   ],
   "source": [
    "from itertools import product\n",
    "omega_1=set(['H', 'T'])\n",
    "omega_2=set(['H', 'T'])\n",
    "omega=set(product(omega_1, omega_2))\n",
    "print('Omega:', omega)\n",
    "A = set(a for a in omega if 'T' in a)\n",
    "print('A:', A)\n",
    "print('P(A)=', len(A) / len(omega))"
   ]
  },
  {
   "cell_type": "code",
   "execution_count": 72,
   "metadata": {},
   "outputs": [
    {
     "data": {
      "image/png": "[encoded data removed]",
      "text/plain": [
       "<Figure size 432x432 with 1 Axes>"
      ]
     },
     "metadata": {},
     "output_type": "display_data"
    }
   ],
   "source": [
    "from matplotlib_venn import venn3\n",
    "set0=set([1,2,3,4,5,6])\n",
    "set1=set([2, 4, 6])\n",
    "set2=set([2, 3])\n",
    "fig = plt.figure(figsize=(6,6))\n",
    "subsets=[set0, set1, set2]\n",
    "venn3(subsets = subsets, \n",
    "      set_labels=('$\\Omega$', 'A', 'B'), \n",
    "      set_colors=('w', 'w', 'r'), alpha = 1)\n",
    "venn3_circles(subsets)\n",
    "plt.show()"
   ]
  },
  {
   "cell_type": "markdown",
   "metadata": {},
   "source": [
    "$$\n",
    "A \\in \\Omega\n",
    "$$"
   ]
  }
 ],
 "metadata": {
  "kernelspec": {
   "display_name": "Python 3",
   "language": "python",
   "name": "python3"
  },
  "language_info": {
   "codemirror_mode": {
    "name": "ipython",
    "version": 3
   },
   "file_extension": ".py",
   "mimetype": "text/x-python",
   "name": "python",
   "nbconvert_exporter": "python",
   "pygments_lexer": "ipython3",
   "version": "3.7.5"
  }
 },
 "nbformat": 4,
 "nbformat_minor": 4
}
